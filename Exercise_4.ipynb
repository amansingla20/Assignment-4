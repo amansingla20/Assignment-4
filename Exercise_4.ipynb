{
  "nbformat": 4,
  "nbformat_minor": 0,
  "metadata": {
    "colab": {
      "provenance": []
    },
    "kernelspec": {
      "name": "python3",
      "display_name": "Python 3"
    },
    "language_info": {
      "name": "python"
    }
  },
  "cells": [
    {
      "cell_type": "markdown",
      "source": [
        "**Question-1:** Create one hot encoding of an array. For example For an array([2, 3, 2, 2, 2, 1]) Output should be\n",
        "   array([[ 0.,  1.,  0.],\n",
        "             [ 0.,  0.,  1.],\n",
        "             [ 0.,  1.,  0.],\n",
        "             [ 0.,  1.,  0.],\n",
        "             [ 0.,  1.,  0.],\n",
        "            [ 1.,  0.,  0.]])"
      ],
      "metadata": {
        "id": "Q6Xp9DPs1z-7"
      }
    },
    {
      "cell_type": "code",
      "source": [
        "import numpy as np\n",
        "\n",
        "#Creating a numpy array....\n",
        "original_array = np.array([2, 3, 2, 2, 2, 1])\n",
        "\n",
        "# Hot encoding array......\n",
        "# First create an array that zeros's at every index...\n",
        "\n",
        "encoded_array = np.zeros((len (original_array) , original_array.max()))\n",
        "\n",
        "#Second arrange 1's over the mentioned 0's arrays....\n",
        "temp = 0\n",
        "for index in original_array:\n",
        "  encoded_array[temp][index - 1] = 1\n",
        "  temp = temp + 1\n",
        "\n",
        "\n",
        "print(encoded_array)"
      ],
      "metadata": {
        "colab": {
          "base_uri": "https://localhost:8080/"
        },
        "id": "bPPz1k0Y10Mr",
        "outputId": "55965dd6-7ab6-495f-d067-c3ae133a0bfd"
      },
      "execution_count": 53,
      "outputs": [
        {
          "output_type": "stream",
          "name": "stdout",
          "text": [
            "[[0. 1. 0.]\n",
            " [0. 0. 1.]\n",
            " [0. 1. 0.]\n",
            " [0. 1. 0.]\n",
            " [0. 1. 0.]\n",
            " [1. 0. 0.]]\n"
          ]
        }
      ]
    },
    {
      "cell_type": "markdown",
      "source": [
        "**Question-2:** Drop all missing values from an array Input: np.array([1,2,3,np.nan,5,6,7,np.nan]) Desired Output: array([ 1.,2.,3.,5.,6.,7.])"
      ],
      "metadata": {
        "id": "FKu6WlZb44Cx"
      }
    },
    {
      "cell_type": "code",
      "source": [
        "import numpy as np\n",
        "import math\n",
        "\n",
        "#Creating a numpy array....\n",
        "numpy_array = np.array([1, 2 ,3, np.nan , 5 ,6, 7, np.nan])\n",
        "another_array = []\n",
        "\n",
        "for element in numpy_array:\n",
        "  if math.isnan(element) != True:\n",
        "    another_array.append(int(element))\n",
        "\n",
        "print(\"While Using Simple Array Output is: \")\n",
        "print(another_array)\n",
        "\n",
        "#Using numpy method...\n",
        "\n",
        "result = numpy_array[np.logical_not(np.isnan(numpy_array))]\n",
        "print(\"Using Numpy Array Method...\")\n",
        "print(result)"
      ],
      "metadata": {
        "colab": {
          "base_uri": "https://localhost:8080/"
        },
        "id": "7UznbDUq441R",
        "outputId": "f3f279cf-9d60-4504-d4b0-027c11994996"
      },
      "execution_count": 54,
      "outputs": [
        {
          "output_type": "stream",
          "name": "stdout",
          "text": [
            "While Using Simple Array Output is: \n",
            "[1, 2, 3, 5, 6, 7]\n",
            "Using Numpy Array Method...\n",
            "[1. 2. 3. 5. 6. 7.]\n"
          ]
        }
      ]
    },
    {
      "cell_type": "markdown",
      "source": [
        "**Question-3:**  Find Local maxima from an array. Input: a = np.array([1, 3, 7, 1, 2, 6, 0, 1]) Desired Output: array([2, 5])"
      ],
      "metadata": {
        "id": "-SfYY8XyElHo"
      }
    },
    {
      "cell_type": "code",
      "source": [
        "import numpy as np\n",
        "\n",
        "input_array = np.array([1, 3, 7, 1, 2, 6, 0, 1])\n",
        "\n",
        "difference_array = np.diff(input_array)\n",
        "indices_array = []\n",
        "\n",
        "for element in range(len(difference_array)):\n",
        "  if difference_array[element] < 0:\n",
        "    indices_array.append(element)\n",
        "\n",
        "print(indices_array)"
      ],
      "metadata": {
        "colab": {
          "base_uri": "https://localhost:8080/"
        },
        "id": "vfSSphKEEvGe",
        "outputId": "4fb963b4-63aa-45d7-df3d-beba5cda61df"
      },
      "execution_count": null,
      "outputs": [
        {
          "output_type": "stream",
          "name": "stdout",
          "text": [
            "[2, 5]\n"
          ]
        }
      ]
    },
    {
      "cell_type": "markdown",
      "source": [
        "**Question-4:** From the given 1d array arr, generate a 2d matrix using strides,\n",
        "For example for an array ([ 0,  1,  2,  3,  4,  5,  6,  7,  8,  9, 10, 11, 12, 13, 14])with a window length of w=4 and strides of s=2, like [[0,1,2,3], [2,3,4,5], [4,5,6,7]..]\n",
        "w and s will be provided by user"
      ],
      "metadata": {
        "id": "jNRsnLYXEvsu"
      }
    },
    {
      "cell_type": "code",
      "source": [
        "import numpy as np\n",
        "\n",
        "window_length = int(input())\n",
        "stride_length = int(input())\n",
        "input_array = np.arange(15)\n",
        "\n",
        "def generate_2d_matrix(input_array, wimdow_length , stride_length):\n",
        "\n",
        "  #First calculate number of strides to be printed in output...\n",
        "  number_of_strides = ((input_array.size - window_length) // stride_length) + 1\n",
        "\n",
        "  return np.array( [ input_array [ stride: (stride + window_length) ] for stride in np.arange(0, number_of_strides * stride_length, stride_length) ] )\n",
        "\n",
        "print(generate_2d_matrix(input_array , window_length , stride_length))"
      ],
      "metadata": {
        "colab": {
          "base_uri": "https://localhost:8080/"
        },
        "id": "zOnjoKYbEwFG",
        "outputId": "50ac09ad-6488-4519-e06a-91269bdc6ad6"
      },
      "execution_count": null,
      "outputs": [
        {
          "output_type": "stream",
          "name": "stdout",
          "text": [
            "4\n",
            "2\n",
            "[[ 0  1  2  3]\n",
            " [ 2  3  4  5]\n",
            " [ 4  5  6  7]\n",
            " [ 6  7  8  9]\n",
            " [ 8  9 10 11]\n",
            " [10 11 12 13]]\n"
          ]
        }
      ]
    }
  ]
}